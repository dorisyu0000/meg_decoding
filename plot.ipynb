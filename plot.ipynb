{
 "cells": [
  {
   "cell_type": "code",
   "execution_count": 1,
   "metadata": {},
   "outputs": [],
   "source": [
    "import numpy as np\n",
    "import matplotlib.pyplot as plt\n",
    "\n",
    "def plot_average_time_decoding_with_variance(file_paths, title, subj, n_classes):\n",
    "    # Read the data from the specified files\n",
    "    data_list = [np.load(file_path) for file_path in file_paths]\n",
    "    \n",
    "    # Calculate mean and standard deviation\n",
    "    scores_mean = np.mean(data_list, axis=0)\n",
    "    scores_std = np.std(data_list, axis=0)\n",
    "    \n",
    "    # Plotting\n",
    "    n_time_points = scores_mean.shape[0]\n",
    "    time_points = np.arange(n_time_points)\n",
    "    \n",
    "    plt.plot(time_points, scores_mean, label='Mean Accuracy')\n",
    "    plt.fill_between(time_points, scores_mean - scores_std, scores_mean + scores_std, alpha=0.2, label='Variance')\n",
    "    plt.ylim(0, 0.6)\n",
    "    plt.axhline(1/n_classes, color='k', linestyle='--', label='Chance')\n",
    "    plt.axvline(50, color='k', linestyle='--')\n",
    "    plt.xlabel('Time Points')\n",
    "    plt.ylabel('Accuracy')\n",
    "    plt.suptitle(title)\n",
    "    plt.legend()\n",
    "    plt.tight_layout()\n",
    "    plt.show()\n",
    "\n",
    "# Usage\n",
    "file_paths = [\n",
    "    'output/R2280/R2280_group_start.npy',\n",
    "    'output/R2487/R2487_group_start.npy',\n",
    "    'output/R2488/R2488_group_start.npy',\n",
    "    'output/R2490/R2490_group_start.npy'\n",
    "]\n"
   ]
  },
  {
   "cell_type": "code",
   "execution_count": 2,
   "metadata": {},
   "outputs": [
    {
     "ename": "ValueError",
     "evalue": "setting an array element with a sequence. The requested array has an inhomogeneous shape after 1 dimensions. The detected shape was (3,) + inhomogeneous part.",
     "output_type": "error",
     "traceback": [
      "\u001b[0;31m---------------------------------------------------------------------------\u001b[0m",
      "\u001b[0;31mValueError\u001b[0m                                Traceback (most recent call last)",
      "Cell \u001b[0;32mIn[2], line 39\u001b[0m\n\u001b[1;32m     33\u001b[0m \u001b[38;5;66;03m# Usage\u001b[39;00m\n\u001b[1;32m     34\u001b[0m file_paths \u001b[38;5;241m=\u001b[39m [\n\u001b[1;32m     35\u001b[0m     \u001b[38;5;124m'\u001b[39m\u001b[38;5;124moutput/R2280/R2280_group_start.npy\u001b[39m\u001b[38;5;124m'\u001b[39m,\n\u001b[1;32m     36\u001b[0m     \u001b[38;5;124m'\u001b[39m\u001b[38;5;124moutput/R2488/R2488_group_start.npy\u001b[39m\u001b[38;5;124m'\u001b[39m,\n\u001b[1;32m     37\u001b[0m     \u001b[38;5;124m'\u001b[39m\u001b[38;5;124moutput/R2490/R2490_group_start.npy\u001b[39m\u001b[38;5;124m'\u001b[39m\n\u001b[1;32m     38\u001b[0m ]\n\u001b[0;32m---> 39\u001b[0m \u001b[43mplot_average_time_decoding_with_variance_and_binning\u001b[49m\u001b[43m(\u001b[49m\u001b[43mfile_paths\u001b[49m\u001b[43m,\u001b[49m\u001b[43m \u001b[49m\u001b[38;5;124;43m'\u001b[39;49m\u001b[38;5;124;43mAverage Time Decoding with Variance and Binning\u001b[39;49m\u001b[38;5;124;43m'\u001b[39;49m\u001b[43m,\u001b[49m\u001b[43m \u001b[49m\u001b[38;5;124;43m'\u001b[39;49m\u001b[38;5;124;43mSubject\u001b[39;49m\u001b[38;5;124;43m'\u001b[39;49m\u001b[43m,\u001b[49m\u001b[43m \u001b[49m\u001b[43mn_classes\u001b[49m\u001b[38;5;241;43m=\u001b[39;49m\u001b[38;5;241;43m4\u001b[39;49m\u001b[43m)\u001b[49m\n",
      "Cell \u001b[0;32mIn[2], line 9\u001b[0m, in \u001b[0;36mplot_average_time_decoding_with_variance_and_binning\u001b[0;34m(file_paths, title, subj, n_classes, bin_size)\u001b[0m\n\u001b[1;32m      6\u001b[0m data_list \u001b[38;5;241m=\u001b[39m [np\u001b[38;5;241m.\u001b[39mload(file_path) \u001b[38;5;28;01mfor\u001b[39;00m file_path \u001b[38;5;129;01min\u001b[39;00m file_paths]\n\u001b[1;32m      8\u001b[0m \u001b[38;5;66;03m# Calculate mean and standard deviation\u001b[39;00m\n\u001b[0;32m----> 9\u001b[0m scores_mean \u001b[38;5;241m=\u001b[39m \u001b[43mnp\u001b[49m\u001b[38;5;241;43m.\u001b[39;49m\u001b[43mmean\u001b[49m\u001b[43m(\u001b[49m\u001b[43mdata_list\u001b[49m\u001b[43m,\u001b[49m\u001b[43m \u001b[49m\u001b[43maxis\u001b[49m\u001b[38;5;241;43m=\u001b[39;49m\u001b[38;5;241;43m0\u001b[39;49m\u001b[43m)\u001b[49m\n\u001b[1;32m     10\u001b[0m scores_std \u001b[38;5;241m=\u001b[39m np\u001b[38;5;241m.\u001b[39mstd(data_list, axis\u001b[38;5;241m=\u001b[39m\u001b[38;5;241m0\u001b[39m)\n\u001b[1;32m     12\u001b[0m \u001b[38;5;66;03m# Reshape and average every `bin_size` time points\u001b[39;00m\n",
      "File \u001b[0;32m~/opt/anaconda3/envs/meg/lib/python3.9/site-packages/numpy/_core/fromnumeric.py:3596\u001b[0m, in \u001b[0;36mmean\u001b[0;34m(a, axis, dtype, out, keepdims, where)\u001b[0m\n\u001b[1;32m   3593\u001b[0m     \u001b[38;5;28;01melse\u001b[39;00m:\n\u001b[1;32m   3594\u001b[0m         \u001b[38;5;28;01mreturn\u001b[39;00m mean(axis\u001b[38;5;241m=\u001b[39maxis, dtype\u001b[38;5;241m=\u001b[39mdtype, out\u001b[38;5;241m=\u001b[39mout, \u001b[38;5;241m*\u001b[39m\u001b[38;5;241m*\u001b[39mkwargs)\n\u001b[0;32m-> 3596\u001b[0m \u001b[38;5;28;01mreturn\u001b[39;00m \u001b[43m_methods\u001b[49m\u001b[38;5;241;43m.\u001b[39;49m\u001b[43m_mean\u001b[49m\u001b[43m(\u001b[49m\u001b[43ma\u001b[49m\u001b[43m,\u001b[49m\u001b[43m \u001b[49m\u001b[43maxis\u001b[49m\u001b[38;5;241;43m=\u001b[39;49m\u001b[43maxis\u001b[49m\u001b[43m,\u001b[49m\u001b[43m \u001b[49m\u001b[43mdtype\u001b[49m\u001b[38;5;241;43m=\u001b[39;49m\u001b[43mdtype\u001b[49m\u001b[43m,\u001b[49m\n\u001b[1;32m   3597\u001b[0m \u001b[43m                      \u001b[49m\u001b[43mout\u001b[49m\u001b[38;5;241;43m=\u001b[39;49m\u001b[43mout\u001b[49m\u001b[43m,\u001b[49m\u001b[43m \u001b[49m\u001b[38;5;241;43m*\u001b[39;49m\u001b[38;5;241;43m*\u001b[39;49m\u001b[43mkwargs\u001b[49m\u001b[43m)\u001b[49m\n",
      "File \u001b[0;32m~/opt/anaconda3/envs/meg/lib/python3.9/site-packages/numpy/_core/_methods.py:111\u001b[0m, in \u001b[0;36m_mean\u001b[0;34m(a, axis, dtype, out, keepdims, where)\u001b[0m\n\u001b[1;32m    110\u001b[0m \u001b[38;5;28;01mdef\u001b[39;00m \u001b[38;5;21m_mean\u001b[39m(a, axis\u001b[38;5;241m=\u001b[39m\u001b[38;5;28;01mNone\u001b[39;00m, dtype\u001b[38;5;241m=\u001b[39m\u001b[38;5;28;01mNone\u001b[39;00m, out\u001b[38;5;241m=\u001b[39m\u001b[38;5;28;01mNone\u001b[39;00m, keepdims\u001b[38;5;241m=\u001b[39m\u001b[38;5;28;01mFalse\u001b[39;00m, \u001b[38;5;241m*\u001b[39m, where\u001b[38;5;241m=\u001b[39m\u001b[38;5;28;01mTrue\u001b[39;00m):\n\u001b[0;32m--> 111\u001b[0m     arr \u001b[38;5;241m=\u001b[39m \u001b[43masanyarray\u001b[49m\u001b[43m(\u001b[49m\u001b[43ma\u001b[49m\u001b[43m)\u001b[49m\n\u001b[1;32m    113\u001b[0m     is_float16_result \u001b[38;5;241m=\u001b[39m \u001b[38;5;28;01mFalse\u001b[39;00m\n\u001b[1;32m    115\u001b[0m     rcount \u001b[38;5;241m=\u001b[39m _count_reduce_items(arr, axis, keepdims\u001b[38;5;241m=\u001b[39mkeepdims, where\u001b[38;5;241m=\u001b[39mwhere)\n",
      "\u001b[0;31mValueError\u001b[0m: setting an array element with a sequence. The requested array has an inhomogeneous shape after 1 dimensions. The detected shape was (3,) + inhomogeneous part."
     ]
    }
   ],
   "source": [
    "import numpy as np\n",
    "import matplotlib.pyplot as plt\n",
    "\n",
    "def plot_average_time_decoding_with_variance_and_binning(file_paths, title, subj, n_classes, bin_size=10):\n",
    "    # Read the data from the specified files\n",
    "    data_list = [np.load(file_path) for file_path in file_paths]\n",
    "    \n",
    "    # Calculate mean and standard deviation\n",
    "    scores_mean = np.mean(data_list, axis=0)\n",
    "    scores_std = np.std(data_list, axis=0)\n",
    "    \n",
    "    # Reshape and average every `bin_size` time points\n",
    "    n_time_points = scores_mean.shape[0]\n",
    "    n_bins = n_time_points // bin_size\n",
    "    binned_mean = scores_mean[:n_bins * bin_size].reshape(n_bins, bin_size).mean(axis=1)\n",
    "    binned_std = scores_std[:n_bins * bin_size].reshape(n_bins, bin_size).mean(axis=1)\n",
    "    \n",
    "    # Plotting\n",
    "    time_points = np.arange(n_bins) * bin_size\n",
    "    \n",
    "    plt.plot(time_points, binned_mean, label='Mean Accuracy')\n",
    "    plt.fill_between(time_points, binned_mean - binned_std, binned_mean + binned_std, alpha=0.2, label='Variance')\n",
    "    plt.ylim(0, 0.6)\n",
    "    plt.axhline(1/n_classes, color='k', linestyle='--', label='Chance')\n",
    "    plt.axvline(50, color='k', linestyle='--')\n",
    "    plt.xlabel('Time Points (binned)')\n",
    "    plt.ylabel('Accuracy')\n",
    "    plt.suptitle(title)\n",
    "    plt.legend()\n",
    "    plt.tight_layout()\n",
    "    plt.show()\n",
    "\n",
    "# Usage\n",
    "file_paths = [\n",
    "    'output/R2280/R2280_group_start.npy',\n",
    "    'output/R2488/R2488_group_start.npy',\n",
    "    'output/R2490/R2490_group_start.npy'\n",
    "]\n",
    "plot_average_time_decoding_with_variance_and_binning(file_paths, 'Average Time Decoding with Variance and Binning', 'Subject', n_classes=4)"
   ]
  }
 ],
 "metadata": {
  "kernelspec": {
   "display_name": "meg",
   "language": "python",
   "name": "python3"
  },
  "language_info": {
   "codemirror_mode": {
    "name": "ipython",
    "version": 3
   },
   "file_extension": ".py",
   "mimetype": "text/x-python",
   "name": "python",
   "nbconvert_exporter": "python",
   "pygments_lexer": "ipython3",
   "version": "3.9.20"
  }
 },
 "nbformat": 4,
 "nbformat_minor": 2
}
