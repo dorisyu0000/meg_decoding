{
 "cells": [
  {
   "cell_type": "code",
   "execution_count": 25,
   "metadata": {},
   "outputs": [],
   "source": [
    "import glob\n",
    "import os\n",
    "import pandas as pd\n",
    "import numpy as np\n",
    "import matplotlib.pyplot as plt\n",
    "import re\n",
    "import json"
   ]
  },
  {
   "cell_type": "code",
   "execution_count": 41,
   "metadata": {},
   "outputs": [
    {
     "name": "stdout",
     "output_type": "stream",
     "text": [
      "data_log/R2280/R2280_loc.json\n",
      "data_log/R2280/R2280_exp.json\n",
      "data_log/R2490/R2490.json\n",
      "No loc or exp file found for subject R2490\n",
      "data_log/R2487/R2487.json\n",
      "No loc or exp file found for subject R2487\n",
      "data_log/R2488/R2488_exp.json\n",
      "data_log/R2488/R2488_loc.json\n"
     ]
    }
   ],
   "source": [
    "data_dir = 'data_log'\n",
    "subjects = ['R2280', 'R2490', 'R2487', 'R2488']\n",
    "\n",
    "# Initialize an empty list to store DataFrames\n",
    "dataframes = []\n",
    "\n",
    "for subj in subjects:\n",
    "    data_log_dir = f\"{data_dir}/{subj}\"\n",
    "    json_files = glob.glob(os.path.join(data_log_dir, '*.json'))\n",
    "\n",
    "    for json_file in json_files:\n",
    "        try:\n",
    "            with open(json_file, 'r') as file:\n",
    "                print(json_file)\n",
    "                data = json.load(file)\n",
    "                trial_data = data['trial_data']\n",
    "                loc_data = data['locolizer_data']\n",
    "            df = pd.json_normalize(loc_data)\n",
    "            df['subj'] = subj  # Add subject number as a new column\n",
    "            dataframes.append(df)\n",
    "        except json.JSONDecodeError as e:\n",
    "            print(f\"Error reading file {json_file}: {e}\")\n",
    "\n",
    "    loc_file_path = f\"{data_dir}/{subj}/{subj}_loc.json\"\n",
    "    exp_file_path = f\"{data_dir}/{subj}/{subj}_exp.json\"\n",
    "    \n",
    "    if os.path.exists(loc_file_path):\n",
    "        data = json.load(open(loc_file_path, 'r'))\n",
    "        loc_data = data['locolizer_data']\n",
    "    elif os.path.exists(exp_file_path):\n",
    "        data_exp = json.load(open(exp_file_path, 'r'))\n",
    "        loc_data = data_exp['locolizer_data']\n",
    "    else:\n",
    "        print(f\"No loc or exp file found for subject {subj}\")\n",
    "        continue\n",
    "\n",
    "    df = pd.json_normalize(loc_data)\n",
    "    df['subj'] = subj  # Add subject number as a new column\n",
    "    dataframes.append(df)\n",
    "\n",
    "\n",
    "# Combine all DataFrames if any exist\n",
    "if dataframes:\n",
    "    combined_data = pd.concat(dataframes, ignore_index=True)\n",
    "else:\n",
    "    print(\"No valid JSON files found.\")"
   ]
  },
  {
   "cell_type": "code",
   "execution_count": 49,
   "metadata": {},
   "outputs": [
    {
     "name": "stdout",
     "output_type": "stream",
     "text": [
      "                                              events locolizer.rule  \\\n",
      "0  [{'time': 12.828553050290793, 'event': 'start'...           tree   \n",
      "1  [{'time': 17.76303712790832, 'event': 'start'}...          chain   \n",
      "2  [{'time': 22.71588610811159, 'event': 'start'}...           loop   \n",
      "3  [{'time': 27.666120220907032, 'event': 'start'...           tree   \n",
      "4  [{'time': 32.6146788992919, 'event': 'start'},...           loop   \n",
      "\n",
      "                                      locolizer.grid  locolizer.score  \\\n",
      "0  [[0.0, 0.0, 0.0, 0.0, 0.0, 0.0, 0.0], [0.0, 0....              1.0   \n",
      "1  [[0.0, 0.0, 0.0, 0.0, 0.0, 0.0, 0.0], [0.0, 0....              1.0   \n",
      "2  [[0.0, 0.0, 0.0, 1.0, 1.0, 0.0, 0.0], [0.0, 0....              1.0   \n",
      "3  [[0.0, 0.0, 0.0, 0.0, 0.0, 0.0, 0.0], [0.0, 0....              1.0   \n",
      "4  [[0.0, 0.0, 0.0, 0.0, 0.0, 0.0, 0.0], [0.0, 0....              1.0   \n",
      "\n",
      "  locolizer.final_choice                                    locolizer.start  \\\n",
      "0                      0  [[2, 2], [2, 3], [2, 4], [2, 5], [2, 6], [3, 2...   \n",
      "1                      0  [[1, 1], [1, 2], [1, 3], [1, 4], [1, 5], [2, 1...   \n",
      "2                      0  [[0, 1], [0, 2], [0, 3], [0, 4], [0, 5], [1, 1...   \n",
      "3                      0  [[2, 0], [2, 1], [2, 2], [2, 3], [2, 4], [3, 0...   \n",
      "4                      0  [[1, 1], [1, 2], [1, 3], [1, 4], [1, 5], [2, 1...   \n",
      "\n",
      "   locolizer.trial_index  locolizer.trial_block   subj  \n",
      "0                    0.0                    0.0  R2280  \n",
      "1                    1.0                    0.0  R2280  \n",
      "2                    2.0                    0.0  R2280  \n",
      "3                    3.0                    0.0  R2280  \n",
      "4                    4.0                    0.0  R2280  \n"
     ]
    }
   ],
   "source": [
    "print(combined_data.head())"
   ]
  },
  {
   "cell_type": "code",
   "execution_count": 44,
   "metadata": {},
   "outputs": [],
   "source": [
    "def calculate_total_time(events):\n",
    "    start_time = None\n",
    "    done_time = None\n",
    "    timeout = False\n",
    "    for event in events:\n",
    "        if event['event'] == 'start':\n",
    "            start_time = event['time']\n",
    "        elif event['event'] == 'done':\n",
    "            done_time = event['time']\n",
    "            break\n",
    "        elif event['event'] == 'timeout':\n",
    "            done_time = event['time']\n",
    "            timeout = True\n",
    "            break\n",
    "    \n",
    "    if start_time is not None and done_time is not None:\n",
    "        return done_time - start_time, timeout\n",
    "    else:\n",
    "        return 0, timeout  # Return 0 and timeout status if times are not found\n",
    "\n",
    "def calculate_choice(events):\n",
    "    num_choice = 0\n",
    "    final_choice = 0  # Default to 0 if no final choice is found\n",
    "    for event in events:\n",
    "        if event['event'] == 'choice':\n",
    "            num_choice += 1\n",
    "            final_choice = event['choice'] if event['choice'] is not None else 0\n",
    "            final_choice = int(final_choice)\n",
    "    return num_choice, final_choice\n",
    "\n",
    "def calculate_choice_time(events):\n",
    "    start_time = None\n",
    "    choice_time = None\n",
    "    for event in events:\n",
    "        if event['event'] == 'done':\n",
    "            start_time = event['time'] -3.4\n",
    "        if event['event'] == 'choice':\n",
    "            choice_time = event['time']\n",
    "    \n",
    "    if start_time is None or choice_time is None:\n",
    "        return 3.0\n",
    "    return choice_time - start_time\n",
    "\n",
    "def loc_start(locolizer):\n",
    "    # Extract the rule directly from the dictionary\n",
    "    rule = locolizer.get('rule', None)\n",
    "    # Count the number of 'start' events\n",
    "    num_start = len(locolizer.get('start', []))\n",
    "    \n",
    "    # Count how many 'start' indices in the grid are equal to 1\n",
    "    grid = locolizer.get('grid', [])\n",
    "    start_positions = locolizer.get('start', [])\n",
    "    \n",
    "    # Ensure indices are within bounds\n",
    "    num_red = sum(1 for x, y in start_positions if 0 <= x < len(grid) and 0 <= y < len(grid[x]) and grid[x][y] == 1)\n",
    "    \n",
    "    return rule, num_start, num_red"
   ]
  },
  {
   "cell_type": "code",
   "execution_count": 52,
   "metadata": {},
   "outputs": [
    {
     "ename": "KeyError",
     "evalue": "'locolizer.num_start'",
     "output_type": "error",
     "traceback": [
      "\u001b[0;31m---------------------------------------------------------------------------\u001b[0m",
      "\u001b[0;31mKeyError\u001b[0m                                  Traceback (most recent call last)",
      "File \u001b[0;32m~/opt/anaconda3/envs/meg/lib/python3.9/site-packages/pandas/core/indexes/base.py:3805\u001b[0m, in \u001b[0;36mIndex.get_loc\u001b[0;34m(self, key)\u001b[0m\n\u001b[1;32m   3804\u001b[0m \u001b[38;5;28;01mtry\u001b[39;00m:\n\u001b[0;32m-> 3805\u001b[0m     \u001b[38;5;28;01mreturn\u001b[39;00m \u001b[38;5;28;43mself\u001b[39;49m\u001b[38;5;241;43m.\u001b[39;49m\u001b[43m_engine\u001b[49m\u001b[38;5;241;43m.\u001b[39;49m\u001b[43mget_loc\u001b[49m\u001b[43m(\u001b[49m\u001b[43mcasted_key\u001b[49m\u001b[43m)\u001b[49m\n\u001b[1;32m   3806\u001b[0m \u001b[38;5;28;01mexcept\u001b[39;00m \u001b[38;5;167;01mKeyError\u001b[39;00m \u001b[38;5;28;01mas\u001b[39;00m err:\n",
      "File \u001b[0;32mindex.pyx:167\u001b[0m, in \u001b[0;36mpandas._libs.index.IndexEngine.get_loc\u001b[0;34m()\u001b[0m\n",
      "File \u001b[0;32mindex.pyx:196\u001b[0m, in \u001b[0;36mpandas._libs.index.IndexEngine.get_loc\u001b[0;34m()\u001b[0m\n",
      "File \u001b[0;32mpandas/_libs/hashtable_class_helper.pxi:7081\u001b[0m, in \u001b[0;36mpandas._libs.hashtable.PyObjectHashTable.get_item\u001b[0;34m()\u001b[0m\n",
      "File \u001b[0;32mpandas/_libs/hashtable_class_helper.pxi:7089\u001b[0m, in \u001b[0;36mpandas._libs.hashtable.PyObjectHashTable.get_item\u001b[0;34m()\u001b[0m\n",
      "\u001b[0;31mKeyError\u001b[0m: 'locolizer.num_start'",
      "\nThe above exception was the direct cause of the following exception:\n",
      "\u001b[0;31mKeyError\u001b[0m                                  Traceback (most recent call last)",
      "Cell \u001b[0;32mIn[52], line 12\u001b[0m\n\u001b[1;32m     10\u001b[0m num_choice, final_choice \u001b[38;5;241m=\u001b[39m calculate_choice(events)\n\u001b[1;32m     11\u001b[0m choice_time \u001b[38;5;241m=\u001b[39m calculate_choice_time(events)\n\u001b[0;32m---> 12\u001b[0m rule, num_start, num_red \u001b[38;5;241m=\u001b[39m trial[\u001b[38;5;124m'\u001b[39m\u001b[38;5;124mlocolizer.rule\u001b[39m\u001b[38;5;124m'\u001b[39m], \u001b[43mtrial\u001b[49m\u001b[43m[\u001b[49m\u001b[38;5;124;43m'\u001b[39;49m\u001b[38;5;124;43mlocolizer.num_start\u001b[39;49m\u001b[38;5;124;43m'\u001b[39;49m\u001b[43m]\u001b[49m, trial[\u001b[38;5;124m'\u001b[39m\u001b[38;5;124mlocolizer.num_red\u001b[39m\u001b[38;5;124m'\u001b[39m]\n\u001b[1;32m     13\u001b[0m rule \u001b[38;5;241m=\u001b[39m rule_index\u001b[38;5;241m.\u001b[39mget(rule)\n\u001b[1;32m     14\u001b[0m ac \u001b[38;5;241m=\u001b[39m \u001b[38;5;241m1\u001b[39m \u001b[38;5;28;01mif\u001b[39;00m final_choice \u001b[38;5;241m==\u001b[39m rule \u001b[38;5;28;01melse\u001b[39;00m \u001b[38;5;241m0\u001b[39m\n",
      "File \u001b[0;32m~/opt/anaconda3/envs/meg/lib/python3.9/site-packages/pandas/core/series.py:1121\u001b[0m, in \u001b[0;36mSeries.__getitem__\u001b[0;34m(self, key)\u001b[0m\n\u001b[1;32m   1118\u001b[0m     \u001b[38;5;28;01mreturn\u001b[39;00m \u001b[38;5;28mself\u001b[39m\u001b[38;5;241m.\u001b[39m_values[key]\n\u001b[1;32m   1120\u001b[0m \u001b[38;5;28;01melif\u001b[39;00m key_is_scalar:\n\u001b[0;32m-> 1121\u001b[0m     \u001b[38;5;28;01mreturn\u001b[39;00m \u001b[38;5;28;43mself\u001b[39;49m\u001b[38;5;241;43m.\u001b[39;49m\u001b[43m_get_value\u001b[49m\u001b[43m(\u001b[49m\u001b[43mkey\u001b[49m\u001b[43m)\u001b[49m\n\u001b[1;32m   1123\u001b[0m \u001b[38;5;66;03m# Convert generator to list before going through hashable part\u001b[39;00m\n\u001b[1;32m   1124\u001b[0m \u001b[38;5;66;03m# (We will iterate through the generator there to check for slices)\u001b[39;00m\n\u001b[1;32m   1125\u001b[0m \u001b[38;5;28;01mif\u001b[39;00m is_iterator(key):\n",
      "File \u001b[0;32m~/opt/anaconda3/envs/meg/lib/python3.9/site-packages/pandas/core/series.py:1237\u001b[0m, in \u001b[0;36mSeries._get_value\u001b[0;34m(self, label, takeable)\u001b[0m\n\u001b[1;32m   1234\u001b[0m     \u001b[38;5;28;01mreturn\u001b[39;00m \u001b[38;5;28mself\u001b[39m\u001b[38;5;241m.\u001b[39m_values[label]\n\u001b[1;32m   1236\u001b[0m \u001b[38;5;66;03m# Similar to Index.get_value, but we do not fall back to positional\u001b[39;00m\n\u001b[0;32m-> 1237\u001b[0m loc \u001b[38;5;241m=\u001b[39m \u001b[38;5;28;43mself\u001b[39;49m\u001b[38;5;241;43m.\u001b[39;49m\u001b[43mindex\u001b[49m\u001b[38;5;241;43m.\u001b[39;49m\u001b[43mget_loc\u001b[49m\u001b[43m(\u001b[49m\u001b[43mlabel\u001b[49m\u001b[43m)\u001b[49m\n\u001b[1;32m   1239\u001b[0m \u001b[38;5;28;01mif\u001b[39;00m is_integer(loc):\n\u001b[1;32m   1240\u001b[0m     \u001b[38;5;28;01mreturn\u001b[39;00m \u001b[38;5;28mself\u001b[39m\u001b[38;5;241m.\u001b[39m_values[loc]\n",
      "File \u001b[0;32m~/opt/anaconda3/envs/meg/lib/python3.9/site-packages/pandas/core/indexes/base.py:3812\u001b[0m, in \u001b[0;36mIndex.get_loc\u001b[0;34m(self, key)\u001b[0m\n\u001b[1;32m   3807\u001b[0m     \u001b[38;5;28;01mif\u001b[39;00m \u001b[38;5;28misinstance\u001b[39m(casted_key, \u001b[38;5;28mslice\u001b[39m) \u001b[38;5;129;01mor\u001b[39;00m (\n\u001b[1;32m   3808\u001b[0m         \u001b[38;5;28misinstance\u001b[39m(casted_key, abc\u001b[38;5;241m.\u001b[39mIterable)\n\u001b[1;32m   3809\u001b[0m         \u001b[38;5;129;01mand\u001b[39;00m \u001b[38;5;28many\u001b[39m(\u001b[38;5;28misinstance\u001b[39m(x, \u001b[38;5;28mslice\u001b[39m) \u001b[38;5;28;01mfor\u001b[39;00m x \u001b[38;5;129;01min\u001b[39;00m casted_key)\n\u001b[1;32m   3810\u001b[0m     ):\n\u001b[1;32m   3811\u001b[0m         \u001b[38;5;28;01mraise\u001b[39;00m InvalidIndexError(key)\n\u001b[0;32m-> 3812\u001b[0m     \u001b[38;5;28;01mraise\u001b[39;00m \u001b[38;5;167;01mKeyError\u001b[39;00m(key) \u001b[38;5;28;01mfrom\u001b[39;00m \u001b[38;5;21;01merr\u001b[39;00m\n\u001b[1;32m   3813\u001b[0m \u001b[38;5;28;01mexcept\u001b[39;00m \u001b[38;5;167;01mTypeError\u001b[39;00m:\n\u001b[1;32m   3814\u001b[0m     \u001b[38;5;66;03m# If we have a listlike key, _check_indexing_error will raise\u001b[39;00m\n\u001b[1;32m   3815\u001b[0m     \u001b[38;5;66;03m#  InvalidIndexError. Otherwise we fall through and re-raise\u001b[39;00m\n\u001b[1;32m   3816\u001b[0m     \u001b[38;5;66;03m#  the TypeError.\u001b[39;00m\n\u001b[1;32m   3817\u001b[0m     \u001b[38;5;28mself\u001b[39m\u001b[38;5;241m.\u001b[39m_check_indexing_error(key)\n",
      "\u001b[0;31mKeyError\u001b[0m: 'locolizer.num_start'"
     ]
    }
   ],
   "source": [
    "# Assuming 'combined_data' is your DataFrame containing all trials\n",
    "results = []\n",
    "for _, trial in combined_data.iterrows():  # Use iterrows() to iterate over DataFrame rows\n",
    "    correct = 0\n",
    "    # locolizer = trial['locolizer']\n",
    "    events = trial['events']\n",
    "    rule_index = {'None':0,'tree':1,'loop':2,'chain':3}\n",
    "    # Calculate metrics\n",
    "    total_time, timeout = calculate_total_time(events)\n",
    "    num_choice, final_choice = calculate_choice(events)\n",
    "    choice_time = calculate_choice_time(events)\n",
    "    rule, num_start, num_red = loc_start(locolizer)\n",
    "    rule = rule_index.get(rule)\n",
    "    ac = 1 if final_choice == rule else 0\n",
    "    \n",
    "    # Append results for this trial\n",
    "    results.append({\n",
    "        'trial_index': trial['locolizer.trial_index'],\n",
    "        't': total_time,\n",
    "        'num_choice': num_choice,\n",
    "        'final_choice': final_choice,\n",
    "        'choice_time': choice_time,\n",
    "        'rule': rule,\n",
    "        'num_start': num_start,\n",
    "        'num_red': num_red,\n",
    "        'correct': ac\n",
    "    })\n",
    "\n",
    "# Create a DataFrame from the results\n",
    "loc_df = pd.DataFrame(results) # Print rows where mapping failed\n",
    "\n",
    "# loc_df.to_csv(f'{data_dir}/{subj}/loc_data.csv')"
   ]
  },
  {
   "cell_type": "code",
   "execution_count": 46,
   "metadata": {},
   "outputs": [
    {
     "data": {
      "image/png": "[encoded data removed]",
      "text/plain": [
       "<Figure size 1000x600 with 1 Axes>"
      ]
     },
     "metadata": {},
     "output_type": "display_data"
    }
   ],
   "source": [
    "plt.figure(figsize=(10, 6))\n",
    "plt.hist(loc_df['choice_time'], bins=30, color='skyblue', edgecolor='black')\n",
    "\n",
    "# Add labels and title\n",
    "plt.xlabel('Choice Time')\n",
    "plt.ylabel('Frequency')\n",
    "plt.title('Distribution of Choice Time')\n",
    "\n",
    "# Show the plot\n",
    "plt.show()"
   ]
  },
  {
   "cell_type": "code",
   "execution_count": 47,
   "metadata": {},
   "outputs": [
    {
     "data": {
      "image/png": "[encoded data removed]",
      "text/plain": [
       "<Figure size 1000x600 with 1 Axes>"
      ]
     },
     "metadata": {},
     "output_type": "display_data"
    }
   ],
   "source": [
    "import pandas as pd\n",
    "import matplotlib.pyplot as plt\n",
    "\n",
    "# Assuming loc_df is your DataFrame containing the results\n",
    "# Filter out trials where final_choice == 0\n",
    "filtered_df = loc_df[loc_df['final_choice'] != 0]\n",
    "\n",
    "# Calculate the correct rate for each num_red\n",
    "correct_rate = loc_df.groupby('num_red')['correct'].mean()\n",
    "\n",
    "# Plot the correct rate\n",
    "plt.figure(figsize=(10, 6))\n",
    "correct_rate.plot(kind='bar', color='skyblue', label='Correct Rate')\n",
    "\n",
    "# Add a horizontal line for the chance baseline at 1/3\n",
    "plt.axhline(y=1/3, color='red', linestyle='--', label='Chance Baseline (1/3)')\n",
    "\n",
    "# Add labels and title\n",
    "plt.xlabel('Number of Red')\n",
    "plt.ylabel('Correct Rate')\n",
    "plt.title('Correct Rate by Number of Red')\n",
    "plt.legend()\n",
    "\n",
    "# Show the plot\n",
    "plt.show()"
   ]
  },
  {
   "cell_type": "code",
   "execution_count": 32,
   "metadata": {},
   "outputs": [
    {
     "name": "stdout",
     "output_type": "stream",
     "text": [
      "             mean       var  count\n",
      "num_red                           \n",
      "1        0.083333  0.083333     12\n",
      "2        0.583333  0.253623     24\n",
      "3        0.875000  0.114130     24\n",
      "4        0.947368  0.052632     19\n",
      "5        0.769231  0.192308     13\n",
      "6        1.000000  0.000000      6\n",
      "7        1.000000  0.000000      9\n",
      "8        1.000000  0.000000      9\n",
      "10       1.000000  0.000000      5\n"
     ]
    }
   ],
   "source": [
    "grouped_stats = loc_df.groupby('num_red')['correct'].agg(['mean', 'var', 'count'])\n",
    "\n",
    "# Print the statistics\n",
    "print(grouped_stats)"
   ]
  }
 ],
 "metadata": {
  "kernelspec": {
   "display_name": "meg",
   "language": "python",
   "name": "python3"
  },
  "language_info": {
   "codemirror_mode": {
    "name": "ipython",
    "version": 3
   },
   "file_extension": ".py",
   "mimetype": "text/x-python",
   "name": "python",
   "nbconvert_exporter": "python",
   "pygments_lexer": "ipython3",
   "version": "3.9.20"
  }
 },
 "nbformat": 4,
 "nbformat_minor": 2
}
