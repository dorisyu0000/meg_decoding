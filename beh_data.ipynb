{
 "cells": [
  {
   "cell_type": "code",
   "execution_count": 15,
   "metadata": {},
   "outputs": [],
   "source": [
    "import glob\n",
    "import os\n",
    "import pandas as pd\n",
    "import numpy as np\n",
    "import matplotlib.pyplot as plt\n",
    "import re\n",
    "import json"
   ]
  },
  {
   "cell_type": "code",
   "execution_count": 16,
   "metadata": {},
   "outputs": [],
   "source": [
    "\n",
    "data_dir = 'data_log'\n",
    "subj = 'R2280'\n",
    "data_log_dir = f\"{data_dir}/{subj}\"\n",
    "json_files = glob.glob(os.path.join(data_log_dir, '*.json'))\n",
    "\n",
    "# Initialize an empty list to store DataFrames\n",
    "dataframes = []\n",
    "\n",
    "# Iterate over each JSON file and read it into a DataFrame\n",
    "for json_file in json_files:\n",
    "    try:\n",
    "        with open(json_file, 'r') as file:\n",
    "            data = json.load(file)\n",
    "            trial_data = data['trial_data']\n",
    "            loc_data = data['locolizer_data']\n",
    "        df = pd.json_normalize(trial_data)\n",
    "        dataframes.append(df)\n",
    "    except json.JSONDecodeError as e:\n",
    "        print(f\"Error reading file {json_file}: {e}\")\n",
    "if dataframes:\n",
    "    combined_data = pd.concat(dataframes, ignore_index=True)\n",
    "else:\n",
    "    print(\"No valid JSON files found.\")"
   ]
  },
  {
   "cell_type": "code",
   "execution_count": 17,
   "metadata": {},
   "outputs": [],
   "source": [
    "# Function to calculate total time for each trial\n",
    "def calculate_total_time(events):\n",
    "    start_time = None\n",
    "    done_time = None\n",
    "    timeout = False\n",
    "    for event in events:\n",
    "        if event['event'] == 'start':\n",
    "            start_time = event['time']\n",
    "\n",
    "        elif event['event'] == 'done':\n",
    "            done_time = event['time']\n",
    "            break  # Stop once we find the 'done' event\n",
    "        elif event['event'] == 'timeout':\n",
    "            done_time = event['time']\n",
    "            timeout = True\n",
    "            break  # Stop once we find the 'dßone' event\n",
    "    \n",
    "    if start_time is not None and done_time is not None:\n",
    "        return done_time - start_time, timeout \n",
    "    else:\n",
    "        return None  # Return None if either start or done time is missing\n",
    "\n",
    "def calculate_reveal(events):\n",
    "    num_reveal = 1\n",
    "    reveal_array = []\n",
    "    num_white = 0\n",
    "    num_red =1 \n",
    "    for event in events:\n",
    "        if event['event'] == 'reveal_white':\n",
    "            num_white += 1\n",
    "            num_reveal += 1\n",
    "        elif event['event'] == 'reveal_red':\n",
    "            num_red += 1\n",
    "            num_reveal += 1\n",
    "    return num_white, num_red, num_reveal\n",
    "\n",
    "def reveal_interval(events):\n",
    "    reveal_interval = []\n",
    "    for event in events:\n",
    "        if event['event'] == 'reveal_white':\n",
    "            reveal_interval.append(event['time'])\n",
    "        elif event['event'] == 'reveal_red':\n",
    "            reveal_interval.append(event['time'])\n",
    "    \n",
    "    return reveal_interval\n",
    "\n",
    "\n",
    "combined_data['num_white'], combined_data['num_red'], combined_data['num_reveal'] = zip(*combined_data['events'].apply(calculate_reveal))\n",
    "# Apply the function to each row in the 'events' column\n",
    "# Calculate total time and store it in 'total_t'\n",
    "combined_data['total_t'], combined_data['timeout'] = zip(*combined_data['events'].apply(calculate_total_time))\n"
   ]
  },
  {
   "cell_type": "code",
   "execution_count": 18,
   "metadata": {},
   "outputs": [
    {
     "data": {
      "image/png": "[encoded data removed]",
      "text/plain": [
       "<Figure size 1000x600 with 1 Axes>"
      ]
     },
     "metadata": {},
     "output_type": "display_data"
    }
   ],
   "source": [
    "import matplotlib.pyplot as plt\n",
    "import seaborn as sns\n",
    "\n",
    "# Drop NaN values from 'total_t' for plotting\n",
    "total_t_values = combined_data['total_t'].dropna()\n",
    "\n",
    "# Plot the distribution\n",
    "plt.figure(figsize=(10, 6))\n",
    "sns.histplot(total_t_values, bins=30, kde=True, color='skyblue')\n",
    "\n",
    "# Add labels and title\n",
    "plt.xlabel('Total Time (t)')\n",
    "plt.ylabel('Frequency')\n",
    "plt.title('Distribution of Total Time (t)')\n",
    "\n",
    "# Show the plot\n",
    "plt.show()"
   ]
  },
  {
   "cell_type": "markdown",
   "metadata": {},
   "source": []
  },
  {
   "cell_type": "code",
   "execution_count": 20,
   "metadata": {},
   "outputs": [
    {
     "data": {
      "text/plain": [
       "timeout\n",
       "False    82\n",
       "True     38\n",
       "Name: count, dtype: int64"
      ]
     },
     "execution_count": 20,
     "metadata": {},
     "output_type": "execute_result"
    }
   ],
   "source": [
    "combined_data['timeout'].value_counts()\n"
   ]
  },
  {
   "cell_type": "code",
   "execution_count": 19,
   "metadata": {},
   "outputs": [
    {
     "name": "stdout",
     "output_type": "stream",
     "text": [
      "    trial.rule  trial_index          t  timeout\n",
      "0        chain            0  26.999955     True\n",
      "1         tree            1  27.000995     True\n",
      "2        chain            2  15.505793    False\n",
      "3         loop            3  26.933030     True\n",
      "4         tree            4  26.974862     True\n",
      "..         ...          ...        ...      ...\n",
      "115       tree          115  17.577005    False\n",
      "116       tree          116   8.844121    False\n",
      "117      chain          117  12.344659    False\n",
      "118       tree          118  24.276845    False\n",
      "119      chain          119   5.777696    False\n",
      "\n",
      "[120 rows x 4 columns]\n"
     ]
    }
   ],
   "source": [
    "label_df = combined_data[['trial.rule']].copy()\n",
    "label_df['trial_index'] = combined_data.index\n",
    "label_df['t'] = combined_data['total_t']\n",
    "label_df['timeout'] = combined_data['timeout']\n",
    "label_df.to_csv(f'{data_dir}/{subj}/label.csv')\n",
    "print(label_df)"
   ]
  }
 ],
 "metadata": {
  "kernelspec": {
   "display_name": "meg",
   "language": "python",
   "name": "python3"
  },
  "language_info": {
   "codemirror_mode": {
    "name": "ipython",
    "version": 3
   },
   "file_extension": ".py",
   "mimetype": "text/x-python",
   "name": "python",
   "nbconvert_exporter": "python",
   "pygments_lexer": "ipython3",
   "version": "3.9.20"
  }
 },
 "nbformat": 4,
 "nbformat_minor": 2
}
