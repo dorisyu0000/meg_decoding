{
 "cells": [
  {
   "cell_type": "code",
   "execution_count": 39,
   "metadata": {},
   "outputs": [],
   "source": [
    "import glob\n",
    "import os\n",
    "import pandas as pd\n",
    "import numpy as np\n",
    "import matplotlib.pyplot as plt\n",
    "import re\n",
    "import json"
   ]
  },
  {
   "cell_type": "code",
   "execution_count": 40,
   "metadata": {},
   "outputs": [],
   "source": [
    "\n",
    "data_dir = 'data_log'\n",
    "subj = 'R2490'\n",
    "data_log_dir = f\"{data_dir}/{subj}\"\n",
    "json_files = glob.glob(os.path.join(data_log_dir, '*.json'))\n",
    "\n",
    "# Initialize an empty list to store DataFrames\n",
    "dataframes = []\n",
    "\n",
    "# Iterate over each JSON file and read it into a DataFrame\n",
    "for json_file in json_files:\n",
    "    try:\n",
    "        with open(json_file, 'r') as file:\n",
    "            data = json.load(file)\n",
    "            trial_data = data['trial_data']\n",
    "            loc_data = data['locolizer_data']\n",
    "        df = pd.json_normalize(trial_data)\n",
    "        dataframes.append(df)\n",
    "    except json.JSONDecodeError as e:\n",
    "        print(f\"Error reading file {json_file}: {e}\")\n",
    "if dataframes:\n",
    "    combined_data = pd.concat(dataframes, ignore_index=True)\n",
    "else:\n",
    "    print(\"No valid JSON files found.\")"
   ]
  },
  {
   "cell_type": "code",
   "execution_count": 41,
   "metadata": {},
   "outputs": [
    {
     "name": "stdout",
     "output_type": "stream",
     "text": [
      "Timeout at 29.108933988958597\n",
      "Timeout at 29.10462831798941\n",
      "Timeout at 29.104257825762033\n",
      "Timeout at 29.081425891723484\n",
      "Timeout at 29.104083609767258\n",
      "Timeout at 29.125230980105698\n",
      "Timeout at 29.081940481904894\n",
      "Timeout at 29.090527737978846\n",
      "Timeout at 29.129467703867704\n",
      "Timeout at 29.090965182054788\n",
      "Timeout at 29.087323701940477\n",
      "Timeout at 29.114513957872987\n",
      "Timeout at 29.118081745691597\n",
      "Timeout at 29.08165486296639\n",
      "Timeout at 29.09997219685465\n",
      "Timeout at 29.122204510960728\n",
      "Timeout at 29.115815525874496\n",
      "Timeout at 29.118674758821726\n",
      "Timeout at 29.110902895219624\n",
      "Timeout at 29.089055821765214\n",
      "Timeout at 29.102985558100045\n",
      "Timeout at 29.14795365696773\n",
      "Timeout at 29.10788707109168\n",
      "Timeout at 29.085780752822757\n",
      "Timeout at 29.13154545193538\n",
      "Timeout at 29.10059519391507\n",
      "Timeout at 29.131262430921197\n",
      "Timeout at 29.097497881855816\n",
      "Timeout at 29.097061208914965\n",
      "Timeout at 29.126734297722578\n",
      "Timeout at 29.103793499059975\n",
      "Timeout at 29.1085222880356\n",
      "Timeout at 29.128838576376438\n",
      "Timeout at 29.154167267028242\n",
      "Timeout at 29.130551972892135\n",
      "Timeout at 29.133762951940298\n",
      "Timeout at 29.11158498376608\n",
      "Timeout at 29.087852177210152\n",
      "Timeout at 29.116698445752263\n",
      "Timeout at 29.122124750632793\n",
      "Timeout at 29.113890929613262\n"
     ]
    }
   ],
   "source": [
    "# Function to calculate total time for each trial\n",
    "def calculate_total_time(events):\n",
    "    start_time = None\n",
    "    done_time = None\n",
    "    for event in events:\n",
    "        if event['event'] == 'start':\n",
    "            start_time = event['time']\n",
    "\n",
    "        elif event['event'] == 'done':\n",
    "            done_time = event['time']\n",
    "            break  # Stop once we find the 'done' event\n",
    "        elif event['event'] == 'timeout':\n",
    "            done_time = event['time']\n",
    "            print(f\"Timeout at {done_time - start_time}\")\n",
    "            break  # Stop once we find the 'done' event\n",
    "    \n",
    "    if start_time is not None and done_time is not None:\n",
    "        return done_time - start_time\n",
    "    else:\n",
    "        return None  # Return None if either start or done time is missing\n",
    "\n",
    "def calculate_reveal(events):\n",
    "    num_reveal = 1\n",
    "    reveal_array = []\n",
    "    num_white = 0\n",
    "    num_red =1 \n",
    "    for event in events:\n",
    "        if event['event'] == 'reveal_white':\n",
    "            num_white += 1\n",
    "            num_reveal += 1\n",
    "        elif event['event'] == 'reveal_red':\n",
    "            num_red += 1\n",
    "            num_reveal += 1\n",
    "    return num_white, num_red, num_reveal\n",
    "\n",
    "combined_data['num_white'], combined_data['num_red'], combined_data['num_reveal'] = zip(*combined_data['events'].apply(calculate_reveal))\n",
    "# Apply the function to each row in the 'events' column\n",
    "# Calculate total time and store it in 'total_t'\n",
    "combined_data['total_t'] = combined_data['events'].apply(calculate_total_time)\n"
   ]
  },
  {
   "cell_type": "code",
   "execution_count": 42,
   "metadata": {},
   "outputs": [
    {
     "data": {
      "image/png": "[encoded data removed]",
      "text/plain": [
       "<Figure size 1000x600 with 1 Axes>"
      ]
     },
     "metadata": {},
     "output_type": "display_data"
    }
   ],
   "source": [
    "import matplotlib.pyplot as plt\n",
    "import seaborn as sns\n",
    "\n",
    "# Drop NaN values from 'total_t' for plotting\n",
    "total_t_values = combined_data['total_t'].dropna()\n",
    "\n",
    "# Plot the distribution\n",
    "plt.figure(figsize=(10, 6))\n",
    "sns.histplot(total_t_values, bins=30, kde=True, color='skyblue')\n",
    "\n",
    "# Add labels and title\n",
    "plt.xlabel('Total Time (t)')\n",
    "plt.ylabel('Frequency')\n",
    "plt.title('Distribution of Total Time (t)')\n",
    "\n",
    "# Show the plot\n",
    "plt.show()"
   ]
  },
  {
   "cell_type": "markdown",
   "metadata": {},
   "source": []
  },
  {
   "cell_type": "code",
   "execution_count": 43,
   "metadata": {},
   "outputs": [
    {
     "name": "stdout",
     "output_type": "stream",
     "text": [
      "    trial.rule  trial_index          t\n",
      "0         tree            0  29.108934\n",
      "1        chain            1  29.104628\n",
      "2        chain            2  12.689874\n",
      "3         loop            3  15.593756\n",
      "4         loop            4  29.104258\n",
      "..         ...          ...        ...\n",
      "115       tree          115  29.122125\n",
      "116       tree          116   8.795711\n",
      "117      chain          117   8.094737\n",
      "118       loop          118  29.113891\n",
      "119      chain          119   7.429130\n",
      "\n",
      "[120 rows x 3 columns]\n"
     ]
    }
   ],
   "source": [
    "label_df = combined_data[['trial.rule']].copy()\n",
    "label_df['trial_index'] = combined_data.index\n",
    "label_df['t'] = combined_data['total_t']\n",
    "label_df.to_csv(f'{data_dir}/{subj}/label.csv')\n",
    "print(label_df)"
   ]
  }
 ],
 "metadata": {
  "kernelspec": {
   "display_name": "meg",
   "language": "python",
   "name": "python3"
  },
  "language_info": {
   "codemirror_mode": {
    "name": "ipython",
    "version": 3
   },
   "file_extension": ".py",
   "mimetype": "text/x-python",
   "name": "python",
   "nbconvert_exporter": "python",
   "pygments_lexer": "ipython3",
   "version": "3.9.20"
  }
 },
 "nbformat": 4,
 "nbformat_minor": 2
}
