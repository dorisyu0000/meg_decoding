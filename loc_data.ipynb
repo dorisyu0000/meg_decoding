{
 "cells": [
  {
   "cell_type": "code",
   "execution_count": 9,
   "metadata": {},
   "outputs": [],
   "source": [
    "import glob\n",
    "import os\n",
    "import pandas as pd\n",
    "import numpy as np\n",
    "import matplotlib.pyplot as plt\n",
    "import re\n",
    "import json"
   ]
  },
  {
   "cell_type": "code",
   "execution_count": 29,
   "metadata": {},
   "outputs": [
    {
     "ename": "AttributeError",
     "evalue": "'dict' object has no attribute 'append'",
     "output_type": "error",
     "traceback": [
      "\u001b[0;31m---------------------------------------------------------------------------\u001b[0m",
      "\u001b[0;31mAttributeError\u001b[0m                            Traceback (most recent call last)",
      "Cell \u001b[0;32mIn[29], line 27\u001b[0m\n\u001b[1;32m     25\u001b[0m data \u001b[38;5;241m=\u001b[39m json\u001b[38;5;241m.\u001b[39mload(\u001b[38;5;28mopen\u001b[39m(\u001b[38;5;124mf\u001b[39m\u001b[38;5;124m\"\u001b[39m\u001b[38;5;132;01m{\u001b[39;00mdata_dir\u001b[38;5;132;01m}\u001b[39;00m\u001b[38;5;124m/\u001b[39m\u001b[38;5;132;01m{\u001b[39;00msubj\u001b[38;5;132;01m}\u001b[39;00m\u001b[38;5;124m/\u001b[39m\u001b[38;5;132;01m{\u001b[39;00msubj\u001b[38;5;132;01m}\u001b[39;00m\u001b[38;5;124m_loc.json\u001b[39m\u001b[38;5;124m\"\u001b[39m, \u001b[38;5;124m'\u001b[39m\u001b[38;5;124mr\u001b[39m\u001b[38;5;124m'\u001b[39m))\n\u001b[1;32m     26\u001b[0m data_exp \u001b[38;5;241m=\u001b[39m json\u001b[38;5;241m.\u001b[39mload(\u001b[38;5;28mopen\u001b[39m(\u001b[38;5;124mf\u001b[39m\u001b[38;5;124m\"\u001b[39m\u001b[38;5;132;01m{\u001b[39;00mdata_dir\u001b[38;5;132;01m}\u001b[39;00m\u001b[38;5;124m/\u001b[39m\u001b[38;5;132;01m{\u001b[39;00msubj\u001b[38;5;132;01m}\u001b[39;00m\u001b[38;5;124m/\u001b[39m\u001b[38;5;132;01m{\u001b[39;00msubj\u001b[38;5;132;01m}\u001b[39;00m\u001b[38;5;124m_exp.json\u001b[39m\u001b[38;5;124m\"\u001b[39m, \u001b[38;5;124m'\u001b[39m\u001b[38;5;124mr\u001b[39m\u001b[38;5;124m'\u001b[39m))\n\u001b[0;32m---> 27\u001b[0m data \u001b[38;5;241m=\u001b[39m \u001b[43mdata\u001b[49m\u001b[38;5;241;43m.\u001b[39;49m\u001b[43mappend\u001b[49m(data_exp)\n\u001b[1;32m     28\u001b[0m loc_data_1 \u001b[38;5;241m=\u001b[39m data_exp[\u001b[38;5;124m'\u001b[39m\u001b[38;5;124mlocolizer_data\u001b[39m\u001b[38;5;124m'\u001b[39m]\n\u001b[1;32m     29\u001b[0m loc_data \u001b[38;5;241m=\u001b[39m data[\u001b[38;5;124m'\u001b[39m\u001b[38;5;124mlocolizer_data\u001b[39m\u001b[38;5;124m'\u001b[39m]\n",
      "\u001b[0;31mAttributeError\u001b[0m: 'dict' object has no attribute 'append'"
     ]
    }
   ],
   "source": [
    "data_dir = 'data_log'\n",
    "subj = 'R2280'\n",
    "data_log_dir = f\"{data_dir}/{subj}\"\n",
    "json_files = glob.glob(os.path.join(data_log_dir, '*.json'))\n",
    "\n",
    "# Initialize an empty list to store DataFrames\n",
    "dataframes = []\n",
    "\n",
    "# Iterate over each JSON file and read it into a DataFrame\n",
    "# for json_file in json_files:\n",
    "#     try:\n",
    "#         with open(json_file, 'r') as file:\n",
    "#             data = json.load(file)\n",
    "#             trial_data = data['trial_data']\n",
    "#             loc_data = data['locolizer_data']\n",
    "#         df = pd.json_normalize(loc_data)\n",
    "#         dataframes.append(df)\n",
    "#     except json.JSONDecodeError as e:\n",
    "#         print(f\"Error reading file {json_file}: {e}\")\n",
    "# if dataframes:\n",
    "#     combined_data = pd.concat(dataframes, ignore_index=True)\n",
    "# else:\n",
    "#     print(\"No valid JSON files found.\")\n",
    "\n",
    "data = json.load(open(f\"{data_dir}/{subj}/{subj}_loc.json\", 'r'))\n",
    "data_exp = json.load(open(f\"{data_dir}/{subj}/{subj}_exp.json\", 'r'))\n",
    "data = data.append(data_exp)\n",
    "loc_data_1 = data_exp['locolizer_data']\n",
    "loc_data = data['locolizer_data']\n",
    "loc_data = loc_data_1 + loc_data\n"
   ]
  },
  {
   "cell_type": "code",
   "execution_count": 20,
   "metadata": {},
   "outputs": [],
   "source": [
    "df = pd.json_normalize(loc_data)\n",
    "dataframes.append(df)\n"
   ]
  },
  {
   "cell_type": "code",
   "execution_count": 31,
   "metadata": {},
   "outputs": [],
   "source": [
    "def calculate_total_time(events):\n",
    "    start_time = None\n",
    "    done_time = None\n",
    "    timeout = False\n",
    "    for event in events:\n",
    "        if event['event'] == 'start':\n",
    "            start_time = event['time']\n",
    "        elif event['event'] == 'done':\n",
    "            done_time = event['time']\n",
    "            break\n",
    "        elif event['event'] == 'timeout':\n",
    "            done_time = event['time']\n",
    "            timeout = True\n",
    "            break\n",
    "    \n",
    "    if start_time is not None and done_time is not None:\n",
    "        return done_time - start_time, timeout\n",
    "    else:\n",
    "        return 0, timeout  # Return 0 and timeout status if times are not found\n",
    "\n",
    "def calculate_choice(events):\n",
    "    num_choice = 0\n",
    "    final_choice = 0  # Default to 0 if no final choice is found\n",
    "    for event in events:\n",
    "        if event['event'] == 'choice':\n",
    "            num_choice += 1\n",
    "            final_choice = event['choice'] if event['choice'] is not None else 0\n",
    "            final_choice = int(final_choice)\n",
    "    return num_choice, final_choice\n",
    "\n",
    "def calculate_choice_time(events):\n",
    "    start_time = None\n",
    "    choice_time = None\n",
    "    for event in events:\n",
    "        if event['event'] == 'done':\n",
    "            start_time = event['time'] -3.4\n",
    "        if event['event'] == 'choice':\n",
    "            choice_time = event['time']\n",
    "    \n",
    "    if start_time is None or choice_time is None:\n",
    "        return 3.0\n",
    "    return choice_time - start_time\n",
    "\n",
    "def loc_start(locolizer):\n",
    "    # Extract the rule directly from the dictionary\n",
    "    rule = locolizer.get('rule', None)\n",
    "    # Count the number of 'start' events\n",
    "    num_start = len(locolizer.get('start', []))\n",
    "    \n",
    "    # Count how many 'start' indices in the grid are equal to 1\n",
    "    grid = locolizer.get('grid', [])\n",
    "    start_positions = locolizer.get('start', [])\n",
    "    \n",
    "    # Ensure indices are within bounds\n",
    "    num_red = sum(1 for x, y in start_positions if 0 <= x < len(grid) and 0 <= y < len(grid[x]) and grid[x][y] == 1)\n",
    "    \n",
    "    return rule, num_start, num_red"
   ]
  },
  {
   "cell_type": "code",
   "execution_count": 34,
   "metadata": {},
   "outputs": [],
   "source": [
    "# Assuming 'combined_data' is your DataFrame containing all trials\n",
    "results = []\n",
    "for trial in loc_data:\n",
    "    correct = 0\n",
    "    locolizer = trial['locolizer']\n",
    "    events = trial['events']\n",
    "    rule_index = {'None':0,'tree':1,'loop':2,'chain':3}\n",
    "    # Calculate metrics\n",
    "    total_time, timeout = calculate_total_time(events)\n",
    "    num_choice, final_choice = calculate_choice(events)\n",
    "    choice_time = calculate_choice_time(events)\n",
    "    rule, num_start, num_red = loc_start(locolizer)\n",
    "    rule = rule_index.get(rule, -1)\n",
    "    ac = 1 if final_choice == rule else 0\n",
    "    \n",
    "\n",
    "    # Append results for this trial\n",
    "    results.append({\n",
    "        'trial_index': locolizer['trial_index'],\n",
    "        't': total_time,\n",
    "        'num_choice': num_choice,\n",
    "        'final_choice': final_choice,\n",
    "        'choice_time': choice_time,\n",
    "        'rule': rule,\n",
    "        'num_start': num_start,\n",
    "        'num_red': num_red,\n",
    "        'correct': ac\n",
    "    })\n",
    "\n",
    "# Create a DataFrame from the results\n",
    "loc_df = pd.DataFrame(results) # Print rows where mapping failed\n",
    "\n",
    "loc_df.to_csv(f'{data_dir}/{subj}/loc_data.csv')"
   ]
  },
  {
   "cell_type": "code",
   "execution_count": 33,
   "metadata": {},
   "outputs": [
    {
     "name": "stdout",
     "output_type": "stream",
     "text": [
      "     trial_index         t  num_choice  final_choice  choice_time  rule  \\\n",
      "0            119  3.401114           1             1     2.409561    -1   \n",
      "1              0  3.413514           1             1     1.272947     1   \n",
      "2              1  3.415624           1             3     1.359638     3   \n",
      "3              2  3.413151           1             2     1.105998     2   \n",
      "4              3  3.412980           1             1     1.022125     1   \n",
      "..           ...       ...         ...           ...          ...   ...   \n",
      "116          115  3.395212           1             3     1.176963     3   \n",
      "117          116  3.395578           1             1     2.140572     2   \n",
      "118          117  3.412362           1             3     2.305921     1   \n",
      "119          118  3.415290           0             0     3.000000     2   \n",
      "120          119  3.396564           1             3     0.878986     2   \n",
      "\n",
      "     num_start  num_red  correct  \n",
      "0           25        0        0  \n",
      "1           25        6        1  \n",
      "2           25        5        1  \n",
      "3           25        7        1  \n",
      "4           25        8        1  \n",
      "..         ...      ...      ...  \n",
      "116          4        2        1  \n",
      "117          4        1        0  \n",
      "118          4        1        0  \n",
      "119          4        1        0  \n",
      "120          4        2        0  \n",
      "\n",
      "[121 rows x 9 columns]\n"
     ]
    }
   ],
   "source": [
    "print(loc_df)"
   ]
  },
  {
   "cell_type": "code",
   "execution_count": 35,
   "metadata": {},
   "outputs": [
    {
     "data": {
      "image/png": "[encoded data removed]",
      "text/plain": [
       "<Figure size 1000x600 with 1 Axes>"
      ]
     },
     "metadata": {},
     "output_type": "display_data"
    }
   ],
   "source": [
    "import pandas as pd\n",
    "import matplotlib.pyplot as plt\n",
    "\n",
    "# Assuming loc_df is your DataFrame containing the results\n",
    "# Filter out trials where final_choice == 0\n",
    "filtered_df = loc_df[loc_df['final_choice'] != 0]\n",
    "\n",
    "# Calculate the correct rate for each num_red\n",
    "correct_rate = filtered_df.groupby('num_red')['correct'].mean()\n",
    "\n",
    "# Plot the correct rate\n",
    "plt.figure(figsize=(10, 6))\n",
    "correct_rate.plot(kind='bar', color='skyblue', label='Correct Rate')\n",
    "\n",
    "# Add a horizontal line for the chance baseline at 1/3\n",
    "plt.axhline(y=1/3, color='red', linestyle='--', label='Chance Baseline (1/3)')\n",
    "\n",
    "# Add labels and title\n",
    "plt.xlabel('Number of Red')\n",
    "plt.ylabel('Correct Rate')\n",
    "plt.title('Correct Rate by Number of Red')\n",
    "plt.legend()\n",
    "\n",
    "# Show the plot\n",
    "plt.show()"
   ]
  },
  {
   "cell_type": "code",
   "execution_count": 15,
   "metadata": {},
   "outputs": [
    {
     "name": "stdout",
     "output_type": "stream",
     "text": [
      "             mean       var  count\n",
      "num_red                           \n",
      "1        0.083333  0.083333     12\n",
      "2        0.583333  0.253623     24\n",
      "3        0.875000  0.114130     24\n",
      "4        0.947368  0.052632     19\n",
      "5        0.769231  0.192308     13\n",
      "6        1.000000  0.000000      5\n",
      "7        1.000000  0.000000      9\n",
      "8        1.000000  0.000000      9\n",
      "10       1.000000  0.000000      5\n"
     ]
    }
   ],
   "source": [
    "grouped_stats = loc_df.groupby('num_red')['correct'].agg(['mean', 'var', 'count'])\n",
    "\n",
    "# Print the statistics\n",
    "print(grouped_stats)"
   ]
  }
 ],
 "metadata": {
  "kernelspec": {
   "display_name": "meg",
   "language": "python",
   "name": "python3"
  },
  "language_info": {
   "codemirror_mode": {
    "name": "ipython",
    "version": 3
   },
   "file_extension": ".py",
   "mimetype": "text/x-python",
   "name": "python",
   "nbconvert_exporter": "python",
   "pygments_lexer": "ipython3",
   "version": "3.9.20"
  }
 },
 "nbformat": 4,
 "nbformat_minor": 2
}
