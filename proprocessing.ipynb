{
 "cells": [
  {
   "cell_type": "code",
   "execution_count": 2,
   "metadata": {},
   "outputs": [
    {
     "name": "stdout",
     "output_type": "stream",
     "text": [
      "Opening raw data file data_meg/R2210_raw_ica.fif...\n"
     ]
    },
    {
     "name": "stderr",
     "output_type": "stream",
     "text": [
      "/var/folders/4s/v49tr3_d3vn5jcm7fg7z3cv00000gp/T/ipykernel_60155/4196179896.py:11: RuntimeWarning: This filename (data_meg/R2210_raw_ica.fif) does not conform to MNE naming conventions. All raw files should end with raw.fif, raw_sss.fif, raw_tsss.fif, _meg.fif, _eeg.fif, _ieeg.fif, raw.fif.gz, raw_sss.fif.gz, raw_tsss.fif.gz, _meg.fif.gz, _eeg.fif.gz or _ieeg.fif.gz\n",
      "  raw = mne.io.read_raw_fif('data_meg/R2210_raw_ica.fif', preload=True)\n"
     ]
    },
    {
     "name": "stdout",
     "output_type": "stream",
     "text": [
      "    Range : 0 ... 2779999 =      0.000 ...  2779.999 secs\n",
      "Ready.\n",
      "Opening raw data file /Users/labadmin/meg_decoding/data_meg/R2210_raw_ica-1.fif...\n",
      "    Range : 2780000 ... 2954999 =   2780.000 ...  2954.999 secs\n",
      "Ready.\n",
      "Reading 0 ... 2954999  =      0.000 ...  2954.999 secs...\n"
     ]
    }
   ],
   "source": [
    "import glob\n",
    "import os\n",
    "import mne\n",
    "import pandas as pd\n",
    "import numpy as np\n",
    "import matplotlib.pyplot as plt\n",
    "import numpy.ma as ma\n",
    "data_dir = 'data_meg'\n",
    "subj = \"R2210\"\n",
    "dtype = \"raw\"\n",
    "raw = mne.io.read_raw_fif('data_meg/R2210_raw_ica.fif', preload=True)\n",
    "save_dir = 'data_meg'"
   ]
  },
  {
   "cell_type": "code",
   "execution_count": 3,
   "metadata": {},
   "outputs": [
    {
     "name": "stdout",
     "output_type": "stream",
     "text": [
      "Filtering raw data in 3 contiguous segments\n",
      "Setting up band-pass filter from 1 - 40 Hz\n",
      "\n",
      "IIR filter parameters\n",
      "---------------------\n",
      "Butterworth bandpass zero-phase (two-pass forward and reverse) non-causal filter:\n",
      "- Filter order 16 (effective, after forward-backward)\n",
      "- Cutoffs at 1.00, 40.00 Hz: -6.02, -6.02 dB\n",
      "\n"
     ]
    }
   ],
   "source": [
    "raw.filter(1, 40, method='iir')"
   ]
  },
  {
   "cell_type": "code",
   "execution_count": null,
   "metadata": {},
   "outputs": [
    {
     "name": "stdout",
     "output_type": "stream",
     "text": [
      "5438 events found on stim channel STI 014\n",
      "Event IDs: [ 1  2  4  8 16]\n",
      "Not setting metadata\n",
      "5438 matching events found\n",
      "Setting baseline interval to [-0.2, 0.0] s\n",
      "Applying baseline correction (mode: mean)\n",
      "0 projection items activated\n",
      "Using data from preloaded Raw for 5438 events and 1201 original time points ...\n",
      "0 bad epochs dropped\n",
      "<Epochs | 5438 events (all good), -0.2 – 1 s (baseline -0.2 – 0 s), ~9.39 GB, data loaded,\n",
      " 'start': 120\n",
      " 'move': 4191\n",
      " 'reveal_red': 617\n",
      " 'reveal_white': 390\n",
      " 'done': 120>\n"
     ]
    }
   ],
   "source": [
    "events = mne.find_events(raw, stim_channel='STI 014', output='onset', shortest_event=1)\n",
    "event_id = {\n",
    "    'start': 1,\n",
    "    'move': 2,\n",
    "    'reveal_red': 4,\n",
    "    'reveal_white': 8,\n",
    "    'done': 16,\n",
    "}\n",
    "epochs = mne.Epochs(raw, events, event_id, tmin=-0.2, tmax=1.0, baseline=(None, 0), preload=True)\n",
    "\n",
    "print(epochs)"
   ]
  },
  {
   "cell_type": "code",
   "execution_count": null,
   "metadata": {},
   "outputs": [
    {
     "name": "stdout",
     "output_type": "stream",
     "text": [
      "Maximum epoch duration: 78.10 seconds\n"
     ]
    }
   ],
   "source": [
    "start_events = events[events[:, 2] == event_id['start']]\n",
    "done_events = events[events[:, 2] == event_id['done']]\n",
    "sfreq = raw.info['sfreq']  # Sampling frequency\n",
    "\n",
    "# Initialize a list to store trial information\n",
    "trial_info = []\n",
    "\n",
    "done_idx = 0\n",
    "\n",
    "for start_event in start_events:\n",
    "    start_sample = start_event[0]\n",
    "    \n",
    "    # Find the corresponding 'done' event\n",
    "    while done_idx < len(done_events) and done_events[done_idx, 0] <= start_sample:\n",
    "        done_idx += 1\n",
    "    if done_idx < len(done_events):\n",
    "        done_sample = done_events[done_idx, 0]\n",
    "        done_idx += 1\n",
    "\n",
    "        # Calculate tmin and tmax for the epoch\n",
    "        tmin = -0.2  # 0.2 s before 'start'\n",
    "        tmax = (done_sample - start_sample) / sfreq + 1.0  # Duration from 'start' to 1 s after 'done'\n",
    "\n",
    "        # Store trial information\n",
    "        trial_info.append({\n",
    "            'event_sample': start_sample,\n",
    "            'tmin': tmin,\n",
    "            'tmax': tmax\n",
    "        })\n",
    "max_tmax = max([info['tmax'] for info in trial_info])\n",
    "print(f\"Maximum epoch duration: {max_tmax:.2f} seconds\")\n"
   ]
  },
  {
   "cell_type": "code",
   "execution_count": null,
   "metadata": {},
   "outputs": [
    {
     "name": "stdout",
     "output_type": "stream",
     "text": [
      "Not setting metadata\n",
      "120 matching events found\n",
      "Setting baseline interval to [-0.2, 0.0] s\n",
      "Applying baseline correction (mode: mean)\n",
      "0 projection items activated\n",
      "Using data from preloaded Raw for 120 events and 78303 original time points ...\n",
      "10 bad epochs dropped\n"
     ]
    }
   ],
   "source": [
    "new_events = np.array([[info['event_sample'], 0, event_id['start']] for info in trial_info])\n",
    "tmin = -0.2  "
   ]
  },
  {
   "cell_type": "code",
   "execution_count": null,
   "metadata": {},
   "outputs": [
    {
     "name": "stdout",
     "output_type": "stream",
     "text": [
      "Not setting metadata\n",
      "120 matching events found\n",
      "Setting baseline interval to [-0.2, 0.0] s\n",
      "Applying baseline correction (mode: mean)\n",
      "0 projection items activated\n",
      "Using data from preloaded Raw for 120 events and 78303 original time points ...\n",
      "3 bad epochs dropped\n",
      "Number of trials in trial_info: 120\n",
      "Number of epochs: 117\n",
      "Some epochs were dropped:\n",
      "Epoch 117 was dropped due to: ('TOO_SHORT',)\n",
      "Epoch 118 was dropped due to: ('TOO_SHORT',)\n",
      "Epoch 119 was dropped due to: ('TOO_SHORT',)\n"
     ]
    }
   ],
   "source": [
    "# After creating the epochs\n",
    "epochs = mne.Epochs(raw, new_events, event_id={'start': event_id['start']},\n",
    "                    tmin=tmin, tmax=max_tmax, baseline=(None, 0), preload=True, reject_by_annotation=False)\n",
    "\n",
    "# Check the number of trials and epochs\n",
    "print(f\"Number of trials in trial_info: {len(trial_info)}\")\n",
    "print(f\"Number of epochs: {len(epochs)}\")\n",
    "\n",
    "# Check for dropped epochs\n",
    "if len(epochs.drop_log) > 0:\n",
    "    print(\"Some epochs were dropped:\")\n",
    "    for idx, reason in enumerate(epochs.drop_log):\n",
    "        if reason != ():\n",
    "            print(f\"Epoch {idx} was dropped due to: {reason}\")\n",
    "\n",
    "# Get the indices of epochs that were kept\n",
    "selected_indices = epochs.selection\n",
    "\n",
    "# Adjust trial_info to include only the selected trials\n",
    "selected_trial_info = [trial_info[i] for i in selected_indices]\n",
    "\n",
    "# Get the epochs data\n",
    "data = epochs.get_data()  # Shape: (n_epochs, n_channels, n_times)\n",
    "\n",
    "# Initialize a mask for valid data points\n",
    "valid_data_mask = np.zeros(data.shape, dtype=bool)\n",
    "\n",
    "# Loop over the selected trials\n",
    "for idx, info in enumerate(selected_trial_info):\n",
    "    # Calculate the number of samples for this trial\n",
    "    duration_samples = int((info['tmax'] - tmin) * sfreq)\n",
    "    valid_data_mask[idx, :, :duration_samples] = True\n",
    "\n",
    "# Create a masked array\n",
    "masked_data = ma.masked_array(data, mask=~valid_data_mask)"
   ]
  },
  {
   "cell_type": "code",
   "execution_count": null,
   "metadata": {},
   "outputs": [
    {
     "ename": "NameError",
     "evalue": "name 'epochs' is not defined",
     "output_type": "error",
     "traceback": [
      "\u001b[0;31m---------------------------------------------------------------------------\u001b[0m",
      "\u001b[0;31mNameError\u001b[0m                                 Traceback (most recent call last)",
      "Cell \u001b[0;32mIn[1], line 1\u001b[0m\n\u001b[0;32m----> 1\u001b[0m \u001b[43mepochs\u001b[49m\u001b[38;5;241m.\u001b[39mplot(n_epochs\u001b[38;5;241m=\u001b[39m\u001b[38;5;241m5\u001b[39m, n_channels\u001b[38;5;241m=\u001b[39m\u001b[38;5;241m30\u001b[39m,events\u001b[38;5;241m=\u001b[39m\u001b[38;5;28;01mTrue\u001b[39;00m)\n",
      "\u001b[0;31mNameError\u001b[0m: name 'epochs' is not defined"
     ]
    }
   ],
   "source": [
    "epochs.plot(n_epochs=5, n_channels=30,events=True)\n"
   ]
  },
  {
   "cell_type": "code",
   "execution_count": null,
   "metadata": {},
   "outputs": [],
   "source": [
    "meg_data = epochs.get_data(picks=[\"mag\", \"grad\"])"
   ]
  }
 ],
 "metadata": {
  "kernelspec": {
   "display_name": "meg",
   "language": "python",
   "name": "python3"
  },
  "language_info": {
   "codemirror_mode": {
    "name": "ipython",
    "version": 3
   },
   "file_extension": ".py",
   "mimetype": "text/x-python",
   "name": "python",
   "nbconvert_exporter": "python",
   "pygments_lexer": "ipython3",
   "version": "3.9.20"
  }
 },
 "nbformat": 4,
 "nbformat_minor": 2
}
